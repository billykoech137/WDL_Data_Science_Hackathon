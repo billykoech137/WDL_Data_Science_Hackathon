{
 "cells": [
  {
   "cell_type": "markdown",
   "id": "a4cd4f8f-1727-4b57-8c6a-2e841e473d4f",
   "metadata": {
    "tags": []
   },
   "source": [
    "![alt text][logo]\n",
    "\n",
    "[logo]:logo.jfif\n",
    "\n",
    "**[WORLD DATA LAB]((https://worlddata.io/)) HACKATHON**\n",
    "\n",
    "***Unleashing the Potential of Youth Employment Data in Kenya, Rwanda and Ghana***\n",
    "\n",
    "---\n"
   ]
  },
  {
   "cell_type": "markdown",
   "id": "add530e9-b294-4ad9-8e57-9e7a929ff5fa",
   "metadata": {},
   "source": [
    "<H1 style=\"text-align: center;\">ANALYSIS OF YOUTH EMPLOYMENT IN RURAL AND URBAN AREAS IN TERMS OF SEX AND ECONOMIC ACTIVITY</H1>\n",
    "\n",
    "---\n",
    "\n",
    "\n",
    "**Steps followed:**\n",
    "\n",
    "**Step 1:** Loading and Understanding the Data\n",
    "\n",
    "**Step 2:** Data Cleaning and Wrangling\n",
    "\n",
    "**Step 3:** Exploratory Data Analysis and Data Visualization\n",
    "\n",
    "**Step 4:** Feature Engineering, Model Selection and Model Refinement"
   ]
  },
  {
   "cell_type": "markdown",
   "id": "cfc79f1e-73bf-4ed1-8d15-c783a5c27c80",
   "metadata": {
    "tags": []
   },
   "source": [
    "## STEP 1: Loading Data\n",
    "---\n",
    "\n",
    "1. Loading the files for Kenya, Rwanda, and Ghana.\n",
    "2. Joining the all the files into one dataframe.\n",
    "3. Group the combined dataframe by indicators\n",
    "4. Choosing the 'Employment by sex, rural/urban areas and econonimic activity (thousands)' indicator for analysis.\n",
    "---"
   ]
  },
  {
   "cell_type": "code",
   "execution_count": 1,
   "id": "780ca873-6749-4332-a7bc-7f023407ad86",
   "metadata": {
    "tags": []
   },
   "outputs": [],
   "source": [
    "import pandas as pd"
   ]
  },
  {
   "cell_type": "code",
   "execution_count": 2,
   "id": "dd69732f-7a94-43bc-8e1f-10e57ab42919",
   "metadata": {
    "tags": []
   },
   "outputs": [],
   "source": [
    "# kenya = pd.read_csv('Kenya National.csv')\n",
    "# rwanda = pd.read_csv('Rwanda national.csv')\n",
    "# ghana = pd.read_csv('Ghana National.csv')"
   ]
  },
  {
   "cell_type": "code",
   "execution_count": 3,
   "id": "72a2d48e-80da-42f2-85b8-201318201b43",
   "metadata": {
    "tags": []
   },
   "outputs": [],
   "source": [
    "# Getting the size of the imported data in terms of rows and columns\n",
    "# print('Kenya Data Size: ', kenya.shape)\n",
    "# print('Ghana Data Size: ', ghana.shape)\n",
    "# print('Rwanda Data Size: ', rwanda.shape)"
   ]
  },
  {
   "cell_type": "code",
   "execution_count": 4,
   "id": "3aa14dea-c1cb-44b3-9301-134dfabfcb4c",
   "metadata": {},
   "outputs": [],
   "source": [
    "# df_total = pd.concat([kenya, rwanda, ghana], axis=0)"
   ]
  },
  {
   "cell_type": "code",
   "execution_count": 5,
   "id": "3d0cf975-d090-4335-8727-0813cb2b4743",
   "metadata": {
    "tags": []
   },
   "outputs": [],
   "source": [
    "# Getting the size of the combined dataframe\n",
    "# df_total.shape"
   ]
  },
  {
   "cell_type": "code",
   "execution_count": 6,
   "id": "afdfe97f-314b-4056-8844-713d5713d389",
   "metadata": {
    "tags": []
   },
   "outputs": [],
   "source": [
    "# indicator_groups = df_total.groupby('indicator')"
   ]
  },
  {
   "cell_type": "code",
   "execution_count": 7,
   "id": "a9e34f71-2876-4e1e-ad98-b9eace1f2fd7",
   "metadata": {
    "tags": []
   },
   "outputs": [],
   "source": [
    "# data = indicator_groups.get_group('EMP_2EMP_SEX_GEO_ECO_NB')"
   ]
  },
  {
   "cell_type": "code",
   "execution_count": 8,
   "id": "1cfccec8-841e-41a8-9dd6-e983fff5c90a",
   "metadata": {
    "tags": []
   },
   "outputs": [],
   "source": [
    "# data.shape"
   ]
  },
  {
   "cell_type": "code",
   "execution_count": 9,
   "id": "e76da855-61d1-4fa3-9771-0db651c6ae83",
   "metadata": {},
   "outputs": [],
   "source": [
    "# data.to_csv('data.csv', index=False)\n",
    "# print('Required Group Saved as CSV')"
   ]
  },
  {
   "cell_type": "markdown",
   "id": "38c2ae83-92e8-45fb-94b9-df8a251c0d16",
   "metadata": {},
   "source": [
    "**Reading the saved data.csv file** "
   ]
  },
  {
   "cell_type": "code",
   "execution_count": 10,
   "id": "c5f0fce7-6ca5-41e6-9a23-a4b2aa79064e",
   "metadata": {},
   "outputs": [],
   "source": [
    "data = pd.read_csv('data.csv')"
   ]
  },
  {
   "cell_type": "markdown",
   "id": "1e5a0b32-5a4b-4dca-a2f1-b0daeca25af2",
   "metadata": {},
   "source": [
    "## STEP 2: Data Cleaning\n",
    "---\n",
    "\n",
    "1. Droping Unrequired columns\n",
    "2. Data formating\n",
    "3. Handling missing values\n",
    "---"
   ]
  },
  {
   "cell_type": "markdown",
   "id": "ba232728-db1e-45c5-8522-9ee7fa945414",
   "metadata": {},
   "source": [
    "#### **1. Dropping Unrequired Columns**"
   ]
  },
  {
   "cell_type": "code",
   "execution_count": 11,
   "id": "43ebe2b6-20a2-4c6d-94b0-4f2a8677841f",
   "metadata": {
    "tags": []
   },
   "outputs": [
    {
     "data": {
      "text/html": [
       "<div>\n",
       "<style scoped>\n",
       "    .dataframe tbody tr th:only-of-type {\n",
       "        vertical-align: middle;\n",
       "    }\n",
       "\n",
       "    .dataframe tbody tr th {\n",
       "        vertical-align: top;\n",
       "    }\n",
       "\n",
       "    .dataframe thead th {\n",
       "        text-align: right;\n",
       "    }\n",
       "</style>\n",
       "<table border=\"1\" class=\"dataframe\">\n",
       "  <thead>\n",
       "    <tr style=\"text-align: right;\">\n",
       "      <th></th>\n",
       "      <th>ref_area</th>\n",
       "      <th>ref_area.label</th>\n",
       "      <th>source</th>\n",
       "      <th>source.label</th>\n",
       "      <th>indicator</th>\n",
       "      <th>indicator.label</th>\n",
       "      <th>sex</th>\n",
       "      <th>sex.label</th>\n",
       "      <th>classif1</th>\n",
       "      <th>classif1.label</th>\n",
       "      <th>...</th>\n",
       "      <th>time</th>\n",
       "      <th>obs_value</th>\n",
       "      <th>obs_status</th>\n",
       "      <th>obs_status.label</th>\n",
       "      <th>note_classif</th>\n",
       "      <th>note_classif.label</th>\n",
       "      <th>note_indicator</th>\n",
       "      <th>note_indicator.label</th>\n",
       "      <th>note_source</th>\n",
       "      <th>note_source.label</th>\n",
       "    </tr>\n",
       "  </thead>\n",
       "  <tbody>\n",
       "    <tr>\n",
       "      <th>0</th>\n",
       "      <td>KEN</td>\n",
       "      <td>Kenya</td>\n",
       "      <td>XA:1909</td>\n",
       "      <td>ILO - Modelled Estimates</td>\n",
       "      <td>EMP_2EMP_SEX_GEO_ECO_NB</td>\n",
       "      <td>Employment by sex, rural / urban areas and eco...</td>\n",
       "      <td>SEX_T</td>\n",
       "      <td>Sex: Total</td>\n",
       "      <td>GEO_COV_NAT</td>\n",
       "      <td>Area type: National</td>\n",
       "      <td>...</td>\n",
       "      <td>2019</td>\n",
       "      <td>23116.127</td>\n",
       "      <td>NaN</td>\n",
       "      <td>NaN</td>\n",
       "      <td>NaN</td>\n",
       "      <td>NaN</td>\n",
       "      <td>NaN</td>\n",
       "      <td>NaN</td>\n",
       "      <td>NaN</td>\n",
       "      <td>NaN</td>\n",
       "    </tr>\n",
       "    <tr>\n",
       "      <th>1</th>\n",
       "      <td>KEN</td>\n",
       "      <td>Kenya</td>\n",
       "      <td>XA:1909</td>\n",
       "      <td>ILO - Modelled Estimates</td>\n",
       "      <td>EMP_2EMP_SEX_GEO_ECO_NB</td>\n",
       "      <td>Employment by sex, rural / urban areas and eco...</td>\n",
       "      <td>SEX_T</td>\n",
       "      <td>Sex: Total</td>\n",
       "      <td>GEO_COV_NAT</td>\n",
       "      <td>Area type: National</td>\n",
       "      <td>...</td>\n",
       "      <td>2019</td>\n",
       "      <td>12566.568</td>\n",
       "      <td>NaN</td>\n",
       "      <td>NaN</td>\n",
       "      <td>NaN</td>\n",
       "      <td>NaN</td>\n",
       "      <td>NaN</td>\n",
       "      <td>NaN</td>\n",
       "      <td>NaN</td>\n",
       "      <td>NaN</td>\n",
       "    </tr>\n",
       "    <tr>\n",
       "      <th>2</th>\n",
       "      <td>KEN</td>\n",
       "      <td>Kenya</td>\n",
       "      <td>XA:1909</td>\n",
       "      <td>ILO - Modelled Estimates</td>\n",
       "      <td>EMP_2EMP_SEX_GEO_ECO_NB</td>\n",
       "      <td>Employment by sex, rural / urban areas and eco...</td>\n",
       "      <td>SEX_T</td>\n",
       "      <td>Sex: Total</td>\n",
       "      <td>GEO_COV_NAT</td>\n",
       "      <td>Area type: National</td>\n",
       "      <td>...</td>\n",
       "      <td>2019</td>\n",
       "      <td>1433.338</td>\n",
       "      <td>NaN</td>\n",
       "      <td>NaN</td>\n",
       "      <td>NaN</td>\n",
       "      <td>NaN</td>\n",
       "      <td>NaN</td>\n",
       "      <td>NaN</td>\n",
       "      <td>NaN</td>\n",
       "      <td>NaN</td>\n",
       "    </tr>\n",
       "    <tr>\n",
       "      <th>3</th>\n",
       "      <td>KEN</td>\n",
       "      <td>Kenya</td>\n",
       "      <td>XA:1909</td>\n",
       "      <td>ILO - Modelled Estimates</td>\n",
       "      <td>EMP_2EMP_SEX_GEO_ECO_NB</td>\n",
       "      <td>Employment by sex, rural / urban areas and eco...</td>\n",
       "      <td>SEX_T</td>\n",
       "      <td>Sex: Total</td>\n",
       "      <td>GEO_COV_NAT</td>\n",
       "      <td>Area type: National</td>\n",
       "      <td>...</td>\n",
       "      <td>2019</td>\n",
       "      <td>9116.221</td>\n",
       "      <td>NaN</td>\n",
       "      <td>NaN</td>\n",
       "      <td>NaN</td>\n",
       "      <td>NaN</td>\n",
       "      <td>NaN</td>\n",
       "      <td>NaN</td>\n",
       "      <td>NaN</td>\n",
       "      <td>NaN</td>\n",
       "    </tr>\n",
       "    <tr>\n",
       "      <th>4</th>\n",
       "      <td>KEN</td>\n",
       "      <td>Kenya</td>\n",
       "      <td>XA:1909</td>\n",
       "      <td>ILO - Modelled Estimates</td>\n",
       "      <td>EMP_2EMP_SEX_GEO_ECO_NB</td>\n",
       "      <td>Employment by sex, rural / urban areas and eco...</td>\n",
       "      <td>SEX_T</td>\n",
       "      <td>Sex: Total</td>\n",
       "      <td>GEO_COV_RUR</td>\n",
       "      <td>Area type: Rural</td>\n",
       "      <td>...</td>\n",
       "      <td>2019</td>\n",
       "      <td>14073.202</td>\n",
       "      <td>NaN</td>\n",
       "      <td>NaN</td>\n",
       "      <td>NaN</td>\n",
       "      <td>NaN</td>\n",
       "      <td>NaN</td>\n",
       "      <td>NaN</td>\n",
       "      <td>NaN</td>\n",
       "      <td>NaN</td>\n",
       "    </tr>\n",
       "  </tbody>\n",
       "</table>\n",
       "<p>5 rows × 22 columns</p>\n",
       "</div>"
      ],
      "text/plain": [
       "  ref_area ref_area.label   source              source.label  \\\n",
       "0      KEN          Kenya  XA:1909  ILO - Modelled Estimates   \n",
       "1      KEN          Kenya  XA:1909  ILO - Modelled Estimates   \n",
       "2      KEN          Kenya  XA:1909  ILO - Modelled Estimates   \n",
       "3      KEN          Kenya  XA:1909  ILO - Modelled Estimates   \n",
       "4      KEN          Kenya  XA:1909  ILO - Modelled Estimates   \n",
       "\n",
       "                 indicator                                    indicator.label  \\\n",
       "0  EMP_2EMP_SEX_GEO_ECO_NB  Employment by sex, rural / urban areas and eco...   \n",
       "1  EMP_2EMP_SEX_GEO_ECO_NB  Employment by sex, rural / urban areas and eco...   \n",
       "2  EMP_2EMP_SEX_GEO_ECO_NB  Employment by sex, rural / urban areas and eco...   \n",
       "3  EMP_2EMP_SEX_GEO_ECO_NB  Employment by sex, rural / urban areas and eco...   \n",
       "4  EMP_2EMP_SEX_GEO_ECO_NB  Employment by sex, rural / urban areas and eco...   \n",
       "\n",
       "     sex   sex.label     classif1       classif1.label  ...  time  obs_value  \\\n",
       "0  SEX_T  Sex: Total  GEO_COV_NAT  Area type: National  ...  2019  23116.127   \n",
       "1  SEX_T  Sex: Total  GEO_COV_NAT  Area type: National  ...  2019  12566.568   \n",
       "2  SEX_T  Sex: Total  GEO_COV_NAT  Area type: National  ...  2019   1433.338   \n",
       "3  SEX_T  Sex: Total  GEO_COV_NAT  Area type: National  ...  2019   9116.221   \n",
       "4  SEX_T  Sex: Total  GEO_COV_RUR     Area type: Rural  ...  2019  14073.202   \n",
       "\n",
       "   obs_status  obs_status.label note_classif note_classif.label  \\\n",
       "0         NaN               NaN          NaN                NaN   \n",
       "1         NaN               NaN          NaN                NaN   \n",
       "2         NaN               NaN          NaN                NaN   \n",
       "3         NaN               NaN          NaN                NaN   \n",
       "4         NaN               NaN          NaN                NaN   \n",
       "\n",
       "   note_indicator  note_indicator.label  note_source  note_source.label  \n",
       "0             NaN                   NaN          NaN                NaN  \n",
       "1             NaN                   NaN          NaN                NaN  \n",
       "2             NaN                   NaN          NaN                NaN  \n",
       "3             NaN                   NaN          NaN                NaN  \n",
       "4             NaN                   NaN          NaN                NaN  \n",
       "\n",
       "[5 rows x 22 columns]"
      ]
     },
     "execution_count": 11,
     "metadata": {},
     "output_type": "execute_result"
    }
   ],
   "source": [
    "data.head()"
   ]
  },
  {
   "cell_type": "code",
   "execution_count": 12,
   "id": "b0955634-391c-4a83-b0a0-f97a3efd64eb",
   "metadata": {
    "tags": []
   },
   "outputs": [
    {
     "data": {
      "text/plain": [
       "Index(['ref_area', 'ref_area.label', 'source', 'source.label', 'indicator',\n",
       "       'indicator.label', 'sex', 'sex.label', 'classif1', 'classif1.label',\n",
       "       'classif2', 'classif2.label', 'time', 'obs_value', 'obs_status',\n",
       "       'obs_status.label', 'note_classif', 'note_classif.label',\n",
       "       'note_indicator', 'note_indicator.label', 'note_source',\n",
       "       'note_source.label'],\n",
       "      dtype='object')"
      ]
     },
     "execution_count": 12,
     "metadata": {},
     "output_type": "execute_result"
    }
   ],
   "source": [
    "data.columns"
   ]
  },
  {
   "cell_type": "code",
   "execution_count": 13,
   "id": "1f6716aa-303e-4204-9010-02defc56ad75",
   "metadata": {
    "tags": []
   },
   "outputs": [],
   "source": [
    "cols_drop = ['ref_area', 'source', 'source.label', 'indicator','indicator.label', 'sex.label', 'classif1',\n",
    "            'classif2', 'obs_status','obs_status.label', 'note_classif', 'note_classif.label',\n",
    "            'note_indicator', 'note_indicator.label', 'note_source','note_source.label']\n",
    "\n",
    "data.drop(cols_drop, axis = 1, inplace = True)"
   ]
  },
  {
   "cell_type": "code",
   "execution_count": 14,
   "id": "c0f5a41a-5a19-4cdf-9fda-dda32eedc8ca",
   "metadata": {
    "tags": []
   },
   "outputs": [
    {
     "data": {
      "text/html": [
       "<div>\n",
       "<style scoped>\n",
       "    .dataframe tbody tr th:only-of-type {\n",
       "        vertical-align: middle;\n",
       "    }\n",
       "\n",
       "    .dataframe tbody tr th {\n",
       "        vertical-align: top;\n",
       "    }\n",
       "\n",
       "    .dataframe thead th {\n",
       "        text-align: right;\n",
       "    }\n",
       "</style>\n",
       "<table border=\"1\" class=\"dataframe\">\n",
       "  <thead>\n",
       "    <tr style=\"text-align: right;\">\n",
       "      <th></th>\n",
       "      <th>ref_area.label</th>\n",
       "      <th>sex</th>\n",
       "      <th>classif1.label</th>\n",
       "      <th>classif2.label</th>\n",
       "      <th>time</th>\n",
       "      <th>obs_value</th>\n",
       "    </tr>\n",
       "  </thead>\n",
       "  <tbody>\n",
       "    <tr>\n",
       "      <th>0</th>\n",
       "      <td>Kenya</td>\n",
       "      <td>SEX_T</td>\n",
       "      <td>Area type: National</td>\n",
       "      <td>Economic activity (Broad sector): Total</td>\n",
       "      <td>2019</td>\n",
       "      <td>23116.127</td>\n",
       "    </tr>\n",
       "    <tr>\n",
       "      <th>1</th>\n",
       "      <td>Kenya</td>\n",
       "      <td>SEX_T</td>\n",
       "      <td>Area type: National</td>\n",
       "      <td>Economic activity (Broad sector): Agriculture</td>\n",
       "      <td>2019</td>\n",
       "      <td>12566.568</td>\n",
       "    </tr>\n",
       "    <tr>\n",
       "      <th>2</th>\n",
       "      <td>Kenya</td>\n",
       "      <td>SEX_T</td>\n",
       "      <td>Area type: National</td>\n",
       "      <td>Economic activity (Broad sector): Industry</td>\n",
       "      <td>2019</td>\n",
       "      <td>1433.338</td>\n",
       "    </tr>\n",
       "    <tr>\n",
       "      <th>3</th>\n",
       "      <td>Kenya</td>\n",
       "      <td>SEX_T</td>\n",
       "      <td>Area type: National</td>\n",
       "      <td>Economic activity (Broad sector): Services</td>\n",
       "      <td>2019</td>\n",
       "      <td>9116.221</td>\n",
       "    </tr>\n",
       "    <tr>\n",
       "      <th>4</th>\n",
       "      <td>Kenya</td>\n",
       "      <td>SEX_T</td>\n",
       "      <td>Area type: Rural</td>\n",
       "      <td>Economic activity (Broad sector): Total</td>\n",
       "      <td>2019</td>\n",
       "      <td>14073.202</td>\n",
       "    </tr>\n",
       "  </tbody>\n",
       "</table>\n",
       "</div>"
      ],
      "text/plain": [
       "  ref_area.label    sex       classif1.label  \\\n",
       "0          Kenya  SEX_T  Area type: National   \n",
       "1          Kenya  SEX_T  Area type: National   \n",
       "2          Kenya  SEX_T  Area type: National   \n",
       "3          Kenya  SEX_T  Area type: National   \n",
       "4          Kenya  SEX_T     Area type: Rural   \n",
       "\n",
       "                                  classif2.label  time  obs_value  \n",
       "0        Economic activity (Broad sector): Total  2019  23116.127  \n",
       "1  Economic activity (Broad sector): Agriculture  2019  12566.568  \n",
       "2     Economic activity (Broad sector): Industry  2019   1433.338  \n",
       "3     Economic activity (Broad sector): Services  2019   9116.221  \n",
       "4        Economic activity (Broad sector): Total  2019  14073.202  "
      ]
     },
     "execution_count": 14,
     "metadata": {},
     "output_type": "execute_result"
    }
   ],
   "source": [
    "data.head()"
   ]
  },
  {
   "cell_type": "markdown",
   "id": "792b1257-9fe5-498b-bd53-48af74efd22a",
   "metadata": {
    "tags": []
   },
   "source": [
    "#### **2. Data Formating**"
   ]
  },
  {
   "cell_type": "markdown",
   "id": "92b25334-e93f-4807-b416-96ee06a98d64",
   "metadata": {},
   "source": [
    "Formatting sex column to have only sex labels"
   ]
  },
  {
   "cell_type": "code",
   "execution_count": 15,
   "id": "42947baa-c698-407b-aa8f-9f74be9f57d1",
   "metadata": {
    "tags": []
   },
   "outputs": [],
   "source": [
    "sex_list = data['sex'].tolist()\n",
    "sex = []\n",
    "\n",
    "for i in sex_list:\n",
    "    sex.append(i.split('_')[1])\n",
    "\n",
    "data['sex'] = sex"
   ]
  },
  {
   "cell_type": "markdown",
   "id": "0ac9fd84-8ecb-4320-9e0e-4b28d3792d1a",
   "metadata": {},
   "source": [
    "Formatting Classif1 column to have only required data and renaming it to first_classifier"
   ]
  },
  {
   "cell_type": "code",
   "execution_count": 16,
   "id": "01021888-30e5-48b1-a9fd-de90746a05e1",
   "metadata": {
    "tags": []
   },
   "outputs": [],
   "source": [
    "classif1_list = data['classif1.label'].tolist()\n",
    "c_1 = []\n",
    "\n",
    "for i in classif1_list:\n",
    "    c_1.append(i.split(': ')[1])\n",
    "    \n",
    "data['first_classifier'] = c_1\n",
    "data.drop('classif1.label', axis=1, inplace=True)"
   ]
  },
  {
   "cell_type": "markdown",
   "id": "fcddd596-4eeb-4127-9a7d-d9faab7ad2c1",
   "metadata": {},
   "source": [
    "Formatting Classif2 column to have only required data and renaming it to second_classifier"
   ]
  },
  {
   "cell_type": "code",
   "execution_count": 17,
   "id": "a8f44298-0616-4cf2-9191-67f8e892930d",
   "metadata": {
    "tags": []
   },
   "outputs": [],
   "source": [
    "classif2_list = data['classif2.label'].tolist()\n",
    "c_2 = []\n",
    "\n",
    "for i in classif2_list:\n",
    "    c_2.append(i.split(': ')[1])\n",
    "\n",
    "data['second_classifier'] = c_2\n",
    "data.drop('classif2.label', axis=1, inplace=True)"
   ]
  },
  {
   "cell_type": "code",
   "execution_count": 18,
   "id": "ad50e539-c3fa-425f-9c9e-bdc4fba007ca",
   "metadata": {
    "tags": []
   },
   "outputs": [
    {
     "data": {
      "text/html": [
       "<div>\n",
       "<style scoped>\n",
       "    .dataframe tbody tr th:only-of-type {\n",
       "        vertical-align: middle;\n",
       "    }\n",
       "\n",
       "    .dataframe tbody tr th {\n",
       "        vertical-align: top;\n",
       "    }\n",
       "\n",
       "    .dataframe thead th {\n",
       "        text-align: right;\n",
       "    }\n",
       "</style>\n",
       "<table border=\"1\" class=\"dataframe\">\n",
       "  <thead>\n",
       "    <tr style=\"text-align: right;\">\n",
       "      <th></th>\n",
       "      <th>ref_area.label</th>\n",
       "      <th>sex</th>\n",
       "      <th>time</th>\n",
       "      <th>obs_value</th>\n",
       "      <th>first_classifier</th>\n",
       "      <th>second_classifier</th>\n",
       "    </tr>\n",
       "  </thead>\n",
       "  <tbody>\n",
       "    <tr>\n",
       "      <th>0</th>\n",
       "      <td>Kenya</td>\n",
       "      <td>T</td>\n",
       "      <td>2019</td>\n",
       "      <td>23116.127</td>\n",
       "      <td>National</td>\n",
       "      <td>Total</td>\n",
       "    </tr>\n",
       "    <tr>\n",
       "      <th>1</th>\n",
       "      <td>Kenya</td>\n",
       "      <td>T</td>\n",
       "      <td>2019</td>\n",
       "      <td>12566.568</td>\n",
       "      <td>National</td>\n",
       "      <td>Agriculture</td>\n",
       "    </tr>\n",
       "    <tr>\n",
       "      <th>2</th>\n",
       "      <td>Kenya</td>\n",
       "      <td>T</td>\n",
       "      <td>2019</td>\n",
       "      <td>1433.338</td>\n",
       "      <td>National</td>\n",
       "      <td>Industry</td>\n",
       "    </tr>\n",
       "    <tr>\n",
       "      <th>3</th>\n",
       "      <td>Kenya</td>\n",
       "      <td>T</td>\n",
       "      <td>2019</td>\n",
       "      <td>9116.221</td>\n",
       "      <td>National</td>\n",
       "      <td>Services</td>\n",
       "    </tr>\n",
       "    <tr>\n",
       "      <th>4</th>\n",
       "      <td>Kenya</td>\n",
       "      <td>T</td>\n",
       "      <td>2019</td>\n",
       "      <td>14073.202</td>\n",
       "      <td>Rural</td>\n",
       "      <td>Total</td>\n",
       "    </tr>\n",
       "  </tbody>\n",
       "</table>\n",
       "</div>"
      ],
      "text/plain": [
       "  ref_area.label sex  time  obs_value first_classifier second_classifier\n",
       "0          Kenya   T  2019  23116.127         National             Total\n",
       "1          Kenya   T  2019  12566.568         National       Agriculture\n",
       "2          Kenya   T  2019   1433.338         National          Industry\n",
       "3          Kenya   T  2019   9116.221         National          Services\n",
       "4          Kenya   T  2019  14073.202            Rural             Total"
      ]
     },
     "execution_count": 18,
     "metadata": {},
     "output_type": "execute_result"
    }
   ],
   "source": [
    "data.head()"
   ]
  },
  {
   "cell_type": "markdown",
   "id": "a9d301bf-54e4-4f16-8242-33aaf4958801",
   "metadata": {},
   "source": [
    "Renaming columns \n",
    "> 'ref_area.lable' to 'country' <br>\n",
    "> 'time' to 'year'"
   ]
  },
  {
   "cell_type": "code",
   "execution_count": 19,
   "id": "74ff15d8-7938-47f7-9b4c-c8a7d7a0044a",
   "metadata": {
    "tags": []
   },
   "outputs": [],
   "source": [
    "data.rename(columns={'ref_area.label':'country', 'time':'year', 'first_classifier':'region', 'second_classifier':'activity'}, inplace=True)"
   ]
  },
  {
   "cell_type": "code",
   "execution_count": 20,
   "id": "c3481a32-d7b1-4b31-93e6-52e4196d1929",
   "metadata": {
    "tags": []
   },
   "outputs": [
    {
     "data": {
      "text/html": [
       "<div>\n",
       "<style scoped>\n",
       "    .dataframe tbody tr th:only-of-type {\n",
       "        vertical-align: middle;\n",
       "    }\n",
       "\n",
       "    .dataframe tbody tr th {\n",
       "        vertical-align: top;\n",
       "    }\n",
       "\n",
       "    .dataframe thead th {\n",
       "        text-align: right;\n",
       "    }\n",
       "</style>\n",
       "<table border=\"1\" class=\"dataframe\">\n",
       "  <thead>\n",
       "    <tr style=\"text-align: right;\">\n",
       "      <th></th>\n",
       "      <th>country</th>\n",
       "      <th>sex</th>\n",
       "      <th>year</th>\n",
       "      <th>obs_value</th>\n",
       "      <th>region</th>\n",
       "      <th>activity</th>\n",
       "    </tr>\n",
       "  </thead>\n",
       "  <tbody>\n",
       "    <tr>\n",
       "      <th>0</th>\n",
       "      <td>Kenya</td>\n",
       "      <td>T</td>\n",
       "      <td>2019</td>\n",
       "      <td>23116.127</td>\n",
       "      <td>National</td>\n",
       "      <td>Total</td>\n",
       "    </tr>\n",
       "    <tr>\n",
       "      <th>1</th>\n",
       "      <td>Kenya</td>\n",
       "      <td>T</td>\n",
       "      <td>2019</td>\n",
       "      <td>12566.568</td>\n",
       "      <td>National</td>\n",
       "      <td>Agriculture</td>\n",
       "    </tr>\n",
       "    <tr>\n",
       "      <th>2</th>\n",
       "      <td>Kenya</td>\n",
       "      <td>T</td>\n",
       "      <td>2019</td>\n",
       "      <td>1433.338</td>\n",
       "      <td>National</td>\n",
       "      <td>Industry</td>\n",
       "    </tr>\n",
       "  </tbody>\n",
       "</table>\n",
       "</div>"
      ],
      "text/plain": [
       "  country sex  year  obs_value    region     activity\n",
       "0   Kenya   T  2019  23116.127  National        Total\n",
       "1   Kenya   T  2019  12566.568  National  Agriculture\n",
       "2   Kenya   T  2019   1433.338  National     Industry"
      ]
     },
     "execution_count": 20,
     "metadata": {},
     "output_type": "execute_result"
    }
   ],
   "source": [
    "data.head(3)"
   ]
  },
  {
   "cell_type": "code",
   "execution_count": 21,
   "id": "f0da150c-378b-4684-97dd-29f70111c730",
   "metadata": {
    "tags": []
   },
   "outputs": [
    {
     "data": {
      "text/plain": [
       "country       object\n",
       "sex           object\n",
       "year           int64\n",
       "obs_value    float64\n",
       "region        object\n",
       "activity      object\n",
       "dtype: object"
      ]
     },
     "execution_count": 21,
     "metadata": {},
     "output_type": "execute_result"
    }
   ],
   "source": [
    "data.dtypes"
   ]
  },
  {
   "cell_type": "markdown",
   "id": "023fa57a-514c-4468-a612-2b58da3394a0",
   "metadata": {
    "tags": []
   },
   "source": [
    "#### **3. Handling Missing Values**"
   ]
  },
  {
   "cell_type": "code",
   "execution_count": 22,
   "id": "202f3381-2b9f-4baf-a1f6-71e164460e8c",
   "metadata": {
    "tags": []
   },
   "outputs": [
    {
     "name": "stdout",
     "output_type": "stream",
     "text": [
      "Number of Missing Values in country column are 0\n",
      "Number of Missing Values in sex column are 0\n",
      "Number of Missing Values in year column are 0\n",
      "Number of Missing Values in obs_value column are 0\n",
      "Number of Missing Values in region column are 0\n",
      "Number of Missing Values in activity column are 0\n"
     ]
    }
   ],
   "source": [
    "for col in data.columns:\n",
    "    print('Number of Missing Values in {} column are {}'.format(col, data[col].isnull().sum()))"
   ]
  },
  {
   "cell_type": "markdown",
   "id": "d2137e4c-9589-466d-9e01-83eb382f992b",
   "metadata": {
    "tags": []
   },
   "source": [
    "**There are no missing values in the data**\n",
    "\n",
    "---"
   ]
  },
  {
   "cell_type": "markdown",
   "id": "eb1cc2d2-bb58-403b-8b20-5561a211da43",
   "metadata": {},
   "source": [
    "## STEP 3: Exploratory Data Analysis and Data Visualization\n",
    "\n",
    "---"
   ]
  },
  {
   "cell_type": "markdown",
   "id": "fb2b59f4-68e4-4373-81a0-56e66272ee62",
   "metadata": {
    "tags": []
   },
   "source": [
    "**Building a dasboard using DASH and Plotly to visualize the data**"
   ]
  },
  {
   "cell_type": "code",
   "execution_count": 23,
   "id": "b5bea391-4244-4ccd-a229-65bf9e5fd65d",
   "metadata": {
    "tags": []
   },
   "outputs": [],
   "source": [
    "import plotly.express as px\n",
    "import dash\n",
    "from dash import dcc\n",
    "from dash import html\n",
    "from dash.dependencies import Input, Output, State\n",
    "import dash_bootstrap_components as dbc\n",
    "from dash.exceptions import PreventUpdate"
   ]
  },
  {
   "cell_type": "code",
   "execution_count": 24,
   "id": "9eba64c2-c4af-4feb-8ed4-65eac6b7cfc5",
   "metadata": {
    "tags": []
   },
   "outputs": [
    {
     "name": "stdout",
     "output_type": "stream",
     "text": [
      "Dash is running on http://127.0.0.1:8050/\n",
      "\n",
      " * Serving Flask app '__main__'\n",
      " * Debug mode: off\n"
     ]
    },
    {
     "name": "stderr",
     "output_type": "stream",
     "text": [
      "WARNING: This is a development server. Do not use it in a production deployment. Use a production WSGI server instead.\n",
      " * Running on http://127.0.0.1:8050\n",
      "Press CTRL+C to quit\n",
      "127.0.0.1 - - [28/Feb/2023 10:07:28] \"GET / HTTP/1.1\" 200 -\n",
      "127.0.0.1 - - [28/Feb/2023 10:07:28] \"GET /_dash-layout HTTP/1.1\" 200 -\n",
      "127.0.0.1 - - [28/Feb/2023 10:07:28] \"GET /_dash-dependencies HTTP/1.1\" 200 -\n",
      "127.0.0.1 - - [28/Feb/2023 10:07:28] \"GET /_dash-component-suites/dash/dcc/async-dropdown.js HTTP/1.1\" 304 -\n",
      "127.0.0.1 - - [28/Feb/2023 10:07:29] \"POST /_dash-update-component HTTP/1.1\" 200 -\n",
      "127.0.0.1 - - [28/Feb/2023 10:07:29] \"GET /_dash-component-suites/dash/dcc/async-graph.js HTTP/1.1\" 304 -\n",
      "127.0.0.1 - - [28/Feb/2023 10:07:29] \"GET /_dash-component-suites/dash/dcc/async-plotlyjs.js HTTP/1.1\" 304 -\n",
      "127.0.0.1 - - [28/Feb/2023 10:07:30] \"POST /_dash-update-component HTTP/1.1\" 200 -\n",
      "127.0.0.1 - - [28/Feb/2023 10:07:31] \"POST /_dash-update-component HTTP/1.1\" 200 -\n",
      "127.0.0.1 - - [28/Feb/2023 10:07:32] \"POST /_dash-update-component HTTP/1.1\" 200 -\n"
     ]
    }
   ],
   "source": [
    "total = ['All Years']\n",
    "years = [i for i in range(2005,2020,1)]\n",
    "all = total + years\n",
    "\n",
    "# Sidebar style on the left\n",
    "SIDEBAR_STYLE = {\n",
    "    \"position\": \"fixed\",\n",
    "    \"top\": 0,\n",
    "    \"left\": 0,\n",
    "    \"bottom\": 0,\n",
    "    \"width\": \"16rem\",\n",
    "    \"padding\": \"3rem 1rem\",\n",
    "    \"background-color\": \"#c2c2c2\",\n",
    "}\n",
    "\n",
    "# Content style on the right\n",
    "CONTENT_STYLE = {\n",
    "    \"margin-left\": \"18rem\",\n",
    "    \"margin-right\": \"2rem\",\n",
    "    \"padding\": \"2rem 1rem\",\n",
    "}\n",
    "\n",
    "sidebar = html.Div(\n",
    "    [\n",
    "        html.H2(\"Filters\"),\n",
    "        html.Hr(),\n",
    "        html.P(),\n",
    "        \n",
    "        # Options\n",
    "        html.Div(children=[\n",
    "            # Choose Country\n",
    "            html.Div(children=[\n",
    "                html.H4('Choose Country:'),\n",
    "                dcc.Dropdown(id='country',\n",
    "                            options=[\n",
    "                                {'label':'All Countries', 'value':'AC'},\n",
    "                                {'label':'Kenya', 'value':'Kenya'},\n",
    "                                {'label':'Rwanda', 'value':'Rwanda'},\n",
    "                                {'label':'Ghana', 'value':'Ghana'}\n",
    "                            ],\n",
    "                            value ='AC')\n",
    "            ]),\n",
    "            \n",
    "            # Choose Region\n",
    "            html.Div(children=[\n",
    "                html.H4('Choose Region:'),\n",
    "                dcc.Dropdown(id='region',\n",
    "                            options=[\n",
    "                                {'label':'National', 'value':'National'},\n",
    "                                {'label':'Urban', 'value':'Urban'},\n",
    "                                {'label':'Rural', 'value':'Rural'}\n",
    "                            ],\n",
    "                            value ='National')\n",
    "            \n",
    "            ]),\n",
    "            \n",
    "            # Choose Year\n",
    "            html.Div(children=[\n",
    "                html.H4('Choose Year:'),\n",
    "                dcc.Dropdown(id='year',\n",
    "                            options=[\n",
    "                                {'label':i, 'value': i} for i in all],\n",
    "                            value ='All Years')\n",
    "            ])\n",
    "        ]),\n",
    "           \n",
    "    ],\n",
    "    style=SIDEBAR_STYLE,\n",
    ")\n",
    "\n",
    "content = html.Div(children=[\n",
    "    # Dashboard title\n",
    "    html.Div(html.H2('YOUTH EMPLOYMENT IN RURAL AND URBAN AREAS IN TERMS OF SEX AND ECONOMIC ACTIVITY', style={'textAlign':'center'})),\n",
    "    html.Hr(), \n",
    "    # Graph\n",
    "    html.Div(children=[\n",
    "        html.Div(id='plot')\n",
    "    ])\n",
    "\n",
    "], style=CONTENT_STYLE)\n",
    "\n",
    "# Initializing the app\n",
    "app = dash.Dash(external_stylesheets=[dbc.themes.BOOTSTRAP])\n",
    "\n",
    "# Creating the app layout\n",
    "app.layout = html.Div(children=[sidebar, content])\n",
    "\n",
    "\n",
    "# App Callback\n",
    "@app.callback(Output(component_id='plot', component_property='children'),\n",
    "              \n",
    "             [Input(component_id='country', component_property='value'),\n",
    "             Input(component_id='region', component_property='value'),\n",
    "             Input(component_id='year', component_property='value')],\n",
    "              \n",
    "             State(component_id='plot', component_property='children'))\n",
    "\n",
    "\n",
    "def get_graph(country, region, year, children):\n",
    "    \n",
    "    if country == 'AC' or year == 'All Years':\n",
    "                            \n",
    "        if country == 'AC' and year == 'All Years':\n",
    "            df = data[(data['region']==region)]\n",
    "            avg_val = df.groupby(['activity','sex'])['obs_value'].sum().reset_index()\n",
    "            fig = px.bar(avg_val, x='activity', y='obs_value', color='sex', barmode='group')\n",
    "            return dcc.Graph(figure=fig)\n",
    "        \n",
    "        elif country == 'AC':\n",
    "            df = data[(data['region']==region) & (data['year']==year)]\n",
    "            avg_val = df.groupby(['activity','sex'])['obs_value'].sum().reset_index()\n",
    "            fig = px.bar(avg_val, x='activity', y='obs_value', color='sex', barmode='group')\n",
    "            return dcc.Graph(figure=fig)\n",
    "        \n",
    "        \n",
    "        elif year == 'All Years':\n",
    "            df = data[(data['country']== country) & (data['region']==region)]\n",
    "            avg_val = df.groupby(['activity','sex'])['obs_value'].sum().reset_index()\n",
    "            fig = px.bar(avg_val, x='activity', y='obs_value', color='sex', barmode='group')\n",
    "            return dcc.Graph(figure=fig)\n",
    "              \n",
    "    else:\n",
    "        df = data[(data['country']== country) & (data['region']==region) & (data['year']==year)]\n",
    "        avg_val = df.groupby(['activity','sex'])['obs_value'].sum().reset_index()\n",
    "        fig = px.bar(avg_val, x='activity', y='obs_value', color='sex', barmode='group')\n",
    "        return dcc.Graph(figure=fig)\n",
    "\n",
    "\n",
    "# Running the app\n",
    "if __name__ == '__main__':\n",
    "    app.run_server()"
   ]
  },
  {
   "cell_type": "markdown",
   "id": "0518b0f0-3159-47cd-b252-2d90c5a4d07a",
   "metadata": {
    "tags": []
   },
   "source": [
    "## STEP 4: Feature Engineering, Model Selection and Model Refinement\n",
    "\n",
    "---\n",
    "\n",
    "1. Feature Engineering\n",
    "2. Model Selection and Refinement\n",
    "---"
   ]
  },
  {
   "cell_type": "markdown",
   "id": "62b8535f-eae5-4904-8394-fbe8f2c30e29",
   "metadata": {},
   "source": [
    "#### **1. Feature Engineering**"
   ]
  },
  {
   "cell_type": "code",
   "execution_count": 25,
   "id": "31ca3630-63bd-4e10-a219-316b0129da1a",
   "metadata": {
    "tags": []
   },
   "outputs": [],
   "source": [
    "import seaborn as sns"
   ]
  },
  {
   "cell_type": "code",
   "execution_count": 26,
   "id": "e46d419a-9511-4e3e-a7b5-69b4ee52c3f6",
   "metadata": {
    "tags": []
   },
   "outputs": [
    {
     "data": {
      "text/plain": [
       "<AxesSubplot: xlabel='country', ylabel='obs_value'>"
      ]
     },
     "execution_count": 26,
     "metadata": {},
     "output_type": "execute_result"
    },
    {
     "data": {
      "image/png": "[encoded data removed]",
      "text/plain": [
       "<Figure size 640x480 with 1 Axes>"
      ]
     },
     "metadata": {},
     "output_type": "display_data"
    }
   ],
   "source": [
    "sns.boxplot(data, x='country', y='obs_value')"
   ]
  },
  {
   "cell_type": "markdown",
   "id": "6599d806-917a-4862-bd27-0ea5af7349ab",
   "metadata": {},
   "source": [
    "The above boxplot shows enough difference between the different contries for it to be a good feature.\n",
    "\n",
    "---"
   ]
  },
  {
   "cell_type": "code",
   "execution_count": 27,
   "id": "72184c99-e11e-4c37-9a3a-587b24300be8",
   "metadata": {
    "tags": []
   },
   "outputs": [
    {
     "data": {
      "text/plain": [
       "<AxesSubplot: xlabel='sex', ylabel='obs_value'>"
      ]
     },
     "execution_count": 27,
     "metadata": {},
     "output_type": "execute_result"
    },
    {
     "data": {
      "image/png": "[encoded data removed]",
      "text/plain": [
       "<Figure size 640x480 with 1 Axes>"
      ]
     },
     "metadata": {},
     "output_type": "display_data"
    }
   ],
   "source": [
    "sns.boxplot(data, x='sex', y='obs_value')"
   ]
  },
  {
   "cell_type": "markdown",
   "id": "c8c0f2da-64cf-4fa0-b2cb-b1cf90cdee9a",
   "metadata": {},
   "source": [
    "The above boxplot shows enough difference between the different genders for it to be a good feature.\n",
    "\n",
    "---"
   ]
  },
  {
   "cell_type": "code",
   "execution_count": 28,
   "id": "aa402e0e-7043-4f9e-a093-1a4988c6ff1c",
   "metadata": {
    "tags": []
   },
   "outputs": [
    {
     "data": {
      "text/plain": [
       "<AxesSubplot: xlabel='region', ylabel='obs_value'>"
      ]
     },
     "execution_count": 28,
     "metadata": {},
     "output_type": "execute_result"
    },
    {
     "data": {
      "image/png": "[encoded data removed]",
      "text/plain": [
       "<Figure size 640x480 with 1 Axes>"
      ]
     },
     "metadata": {},
     "output_type": "display_data"
    }
   ],
   "source": [
    "sns.boxplot(data, x='region', y='obs_value')"
   ]
  },
  {
   "cell_type": "markdown",
   "id": "9b743e0d-fbbd-401f-a267-3f44d93c93b9",
   "metadata": {},
   "source": [
    "The above boxplot shows enough difference between the different regions for it to be a good feature.\n",
    "\n",
    "---"
   ]
  },
  {
   "cell_type": "code",
   "execution_count": 29,
   "id": "9aa6284c-3f62-4c30-8937-7451333db0df",
   "metadata": {
    "tags": []
   },
   "outputs": [
    {
     "data": {
      "text/plain": [
       "<AxesSubplot: xlabel='activity', ylabel='obs_value'>"
      ]
     },
     "execution_count": 29,
     "metadata": {},
     "output_type": "execute_result"
    },
    {
     "data": {
      "image/png": "[encoded data removed]",
      "text/plain": [
       "<Figure size 640x480 with 1 Axes>"
      ]
     },
     "metadata": {},
     "output_type": "display_data"
    }
   ],
   "source": [
    "sns.boxplot(data, x='activity', y='obs_value')"
   ]
  },
  {
   "cell_type": "markdown",
   "id": "99d4ab6e-530b-4ad9-81d3-a8d8e264163e",
   "metadata": {},
   "source": [
    "The above boxplot shows enough difference between the different economic activities for it to be a good feature.\n",
    "\n",
    "---"
   ]
  },
  {
   "cell_type": "code",
   "execution_count": 30,
   "id": "ce8f8386-3e70-492d-9236-924690037049",
   "metadata": {
    "tags": []
   },
   "outputs": [
    {
     "data": {
      "text/plain": [
       "<AxesSubplot: xlabel='year', ylabel='obs_value'>"
      ]
     },
     "execution_count": 30,
     "metadata": {},
     "output_type": "execute_result"
    },
    {
     "data": {
      "image/png": "[encoded data removed]",
      "text/plain": [
       "<Figure size 640x480 with 1 Axes>"
      ]
     },
     "metadata": {},
     "output_type": "display_data"
    }
   ],
   "source": [
    "# Groping the data by years and finding the mean of the observed value\n",
    "df = data.groupby('year')['obs_value'].mean().reset_index()\n",
    "sns.regplot(df, x='year', y='obs_value')"
   ]
  },
  {
   "cell_type": "markdown",
   "id": "3864f0c9-3cda-4316-aa72-3a7cf0c4ad6a",
   "metadata": {},
   "source": [
    "**OneHotEncoding Categorical Data Using Column Transformer.**"
   ]
  },
  {
   "cell_type": "code",
   "execution_count": 31,
   "id": "bfb601d9-de8f-4620-a484-c58e33414d53",
   "metadata": {
    "tags": []
   },
   "outputs": [],
   "source": [
    "from sklearn.preprocessing import OneHotEncoder\n",
    "from sklearn.compose import ColumnTransformer\n",
    "from sklearn.impute import SimpleImputer"
   ]
  },
  {
   "cell_type": "code",
   "execution_count": 32,
   "id": "6a5ae7d6-39ad-45cf-ae24-f45e8f1a9ff4",
   "metadata": {
    "tags": []
   },
   "outputs": [],
   "source": [
    "categorical_data = ['country', 'sex', 'region', 'activity']\n",
    "\n",
    "categorical_transformer = OneHotEncoder(handle_unknown='ignore')\n",
    "\n",
    "column_transformer = ColumnTransformer(transformers=[\n",
    "    ('categorical_columns', categorical_transformer, categorical_data),\n",
    "], remainder='passthrough')"
   ]
  },
  {
   "cell_type": "markdown",
   "id": "bbce7172-8de5-4bc0-9381-91d8a0ed860d",
   "metadata": {
    "tags": []
   },
   "source": [
    "#### **2. Model Selection and Refinement**"
   ]
  },
  {
   "cell_type": "markdown",
   "id": "05bfd532-aebc-4917-8d95-e27eb011bca9",
   "metadata": {
    "tags": []
   },
   "source": [
    "+ Spliting data to training and testing sets\n",
    "+ RandomForestRegressor and XGBRegressor models used.\n",
    "+ Model accuracy checked using R Squared score"
   ]
  },
  {
   "cell_type": "code",
   "execution_count": 33,
   "id": "993cbe7e-01e4-4b56-958c-848481e33456",
   "metadata": {
    "tags": []
   },
   "outputs": [],
   "source": [
    "from sklearn.ensemble import RandomForestRegressor\n",
    "from xgboost import XGBRegressor\n",
    "from sklearn.model_selection import train_test_split, cross_val_score\n",
    "from sklearn.pipeline import Pipeline"
   ]
  },
  {
   "cell_type": "markdown",
   "id": "0f9f9eee-c1fb-4c4b-8690-db2dab353071",
   "metadata": {},
   "source": [
    "**Spliting the Data to Training and Testing Sets**"
   ]
  },
  {
   "cell_type": "code",
   "execution_count": 34,
   "id": "390809ea-5cbc-491c-84cd-48d12a639f43",
   "metadata": {
    "tags": []
   },
   "outputs": [],
   "source": [
    "x = data.drop('obs_value', axis=1)\n",
    "y = data['obs_value']"
   ]
  },
  {
   "cell_type": "code",
   "execution_count": 35,
   "id": "0b7ae30d-c510-4540-a554-5a15574e58eb",
   "metadata": {
    "tags": []
   },
   "outputs": [],
   "source": [
    "x_train, x_test, y_train, y_test = train_test_split(x, y, test_size=0.2)"
   ]
  },
  {
   "cell_type": "markdown",
   "id": "d7dedda8-2af7-4d2f-afa2-b2a668bd7282",
   "metadata": {
    "tags": []
   },
   "source": [
    "**Random Forest Regressor**"
   ]
  },
  {
   "cell_type": "code",
   "execution_count": 36,
   "id": "7a24cbdc-b08c-4460-bc79-fdf252b94c3f",
   "metadata": {
    "tags": []
   },
   "outputs": [],
   "source": [
    "# Function that takes in n_estimator parameter for the model and returns cross validation scores\n",
    "def get_forest_scores(n_estimators):\n",
    "    pipe = Pipeline(steps=[\n",
    "        ('one_hot_encoding', column_transformer),\n",
    "        ('model', RandomForestRegressor(n_estimators=n_estimators))])\n",
    "    \n",
    "    scores = cross_val_score(pipe, x_train, y_train, cv = 5)\n",
    "    \n",
    "    return scores.mean()    "
   ]
  },
  {
   "cell_type": "code",
   "execution_count": 37,
   "id": "916a7715-b24e-4be7-9e8f-9d7938bb7ff2",
   "metadata": {
    "tags": []
   },
   "outputs": [
    {
     "data": {
      "text/plain": [
       "{2000: 0.9940143108236755,\n",
       " 2500: 0.9940512808022415,\n",
       " 3000: 0.9938873879782701,\n",
       " 3500: 0.9943000463441966}"
      ]
     },
     "execution_count": 37,
     "metadata": {},
     "output_type": "execute_result"
    }
   ],
   "source": [
    "results = {}\n",
    "\n",
    "for i in range(4, 8):\n",
    "    results[500*i] = get_forest_scores(50*i)\n",
    "\n",
    "results"
   ]
  },
  {
   "cell_type": "markdown",
   "id": "fc8d95ed-def5-4ecc-8d5b-7752008de8d2",
   "metadata": {
    "tags": []
   },
   "source": [
    "The best n_estimator value is 2500"
   ]
  },
  {
   "cell_type": "code",
   "execution_count": 38,
   "id": "89aa1723-b864-407e-96bb-7e8188df2e9a",
   "metadata": {
    "tags": []
   },
   "outputs": [
    {
     "data": {
      "text/plain": [
       "0.9971867934630374"
      ]
     },
     "execution_count": 38,
     "metadata": {},
     "output_type": "execute_result"
    }
   ],
   "source": [
    "forest_model = RandomForestRegressor(n_estimators=2500)\n",
    "forest_pipe = Pipeline(steps=[\n",
    "        ('one_hot_encoding', column_transformer),\n",
    "        ('model', forest_model)])\n",
    "forest_pipe.fit(x_train, y_train)\n",
    "forest_pipe.score(x_test, y_test)"
   ]
  },
  {
   "cell_type": "markdown",
   "id": "bdbe2b77-056b-47ab-b378-83908e3de90c",
   "metadata": {
    "tags": []
   },
   "source": [
    "**XGB Regressor**"
   ]
  },
  {
   "cell_type": "code",
   "execution_count": 39,
   "id": "8fdb6f3b-c216-4ae2-9f89-ae6d298a08fd",
   "metadata": {},
   "outputs": [],
   "source": [
    "# Function that takes in n_estimator parameter for the model and returns cross validation scores\n",
    "def get_xgb_scores(n_estimators):\n",
    "    pipe = Pipeline(steps=[\n",
    "        ('one_hot_encoding', column_transformer),\n",
    "        ('model', XGBRegressor(n_estimators=n_estimators, learning_rate=0.05))])\n",
    "    \n",
    "    scores = cross_val_score(pipe, x_train, y_train, cv = 5)\n",
    "    \n",
    "    return scores.mean()  "
   ]
  },
  {
   "cell_type": "code",
   "execution_count": 40,
   "id": "c45e7454-e2e5-43ad-8640-1da717e9e06b",
   "metadata": {},
   "outputs": [
    {
     "data": {
      "text/plain": [
       "{500: 0.9598580040918796,\n",
       " 1000: 0.9898377150605808,\n",
       " 1500: 0.9924835909225681,\n",
       " 2000: 0.9939679591827353,\n",
       " 2500: 0.9947994539278021,\n",
       " 3000: 0.9951293325206965,\n",
       " 3500: 0.9953920562298576,\n",
       " 4000: 0.9956005434073297,\n",
       " 4500: 0.9957299190654829,\n",
       " 5000: 0.9958236105287327}"
      ]
     },
     "execution_count": 40,
     "metadata": {},
     "output_type": "execute_result"
    }
   ],
   "source": [
    "results = {}\n",
    "\n",
    "for i in range(1, 11):\n",
    "    results[500*i] = get_xgb_scores(50*i)\n",
    "\n",
    "results"
   ]
  },
  {
   "cell_type": "markdown",
   "id": "3d3ded82-a9c1-4ad7-b4dc-8db4f65911d4",
   "metadata": {},
   "source": [
    "The best n_estimator value is 5000"
   ]
  },
  {
   "cell_type": "code",
   "execution_count": 41,
   "id": "f529f21d-7f19-494c-82b2-9c6878602605",
   "metadata": {
    "tags": []
   },
   "outputs": [
    {
     "data": {
      "text/plain": [
       "0.9974980433419806"
      ]
     },
     "execution_count": 41,
     "metadata": {},
     "output_type": "execute_result"
    }
   ],
   "source": [
    "xgb_model = XGBRegressor(n_estimators=5000, learning_rate=0.05)\n",
    "xgb_pipe = Pipeline(steps=[\n",
    "        ('one_hot_encoding', column_transformer),\n",
    "        ('model', xgb_model)])\n",
    "xgb_pipe.fit(x_train, y_train)\n",
    "xgb_pipe.score(x_test, y_test)"
   ]
  },
  {
   "cell_type": "markdown",
   "id": "7ffbf700-4473-476b-b587-29f3ba6e73f1",
   "metadata": {
    "tags": []
   },
   "source": [
    "---\n",
    "R Squared Score are:\n",
    ">Random Forest Regressor = 0.9970 <br>\n",
    ">XGB Regressor = 0.9983\n",
    "\n",
    "<br>\n",
    "\n",
    "**XGB Regressor Model performes better than the Random Forest Regressor Model**\n",
    "\n",
    "---"
   ]
  },
  {
   "cell_type": "markdown",
   "id": "a972a298-a752-429d-b7fc-60c77eebab55",
   "metadata": {
    "tags": []
   },
   "source": [
    "#### **Creating a Dashboard to deploy the Model**\n",
    "\n",
    "---"
   ]
  },
  {
   "cell_type": "code",
   "execution_count": 42,
   "id": "24a2cebc-3a25-440f-89de-1e38ffbfa022",
   "metadata": {
    "tags": []
   },
   "outputs": [
    {
     "name": "stdout",
     "output_type": "stream",
     "text": [
      "Dash is running on http://127.0.0.1:8050/\n",
      "\n",
      "Dash is running on http://127.0.0.1:8050/\n",
      "\n",
      " * Serving Flask app '__main__'\n",
      " * Debug mode: off\n"
     ]
    },
    {
     "name": "stderr",
     "output_type": "stream",
     "text": [
      "WARNING: This is a development server. Do not use it in a production deployment. Use a production WSGI server instead.\n",
      " * Running on http://127.0.0.1:8050\n",
      "Press CTRL+C to quit\n",
      "127.0.0.1 - - [28/Feb/2023 10:08:22] \"GET / HTTP/1.1\" 200 -\n",
      "127.0.0.1 - - [28/Feb/2023 10:08:22] \"GET /_dash-layout HTTP/1.1\" 200 -\n",
      "127.0.0.1 - - [28/Feb/2023 10:08:22] \"GET /_dash-dependencies HTTP/1.1\" 200 -\n",
      "127.0.0.1 - - [28/Feb/2023 10:08:22] \"GET /_dash-component-suites/dash/dcc/async-dropdown.js HTTP/1.1\" 304 -\n",
      "127.0.0.1 - - [28/Feb/2023 10:08:22] \"POST /_dash-update-component HTTP/1.1\" 204 -\n",
      "127.0.0.1 - - [28/Feb/2023 10:08:25] \"POST /_dash-update-component HTTP/1.1\" 204 -\n",
      "127.0.0.1 - - [28/Feb/2023 10:08:26] \"POST /_dash-update-component HTTP/1.1\" 204 -\n",
      "127.0.0.1 - - [28/Feb/2023 10:08:28] \"POST /_dash-update-component HTTP/1.1\" 204 -\n",
      "127.0.0.1 - - [28/Feb/2023 10:08:29] \"POST /_dash-update-component HTTP/1.1\" 204 -\n",
      "127.0.0.1 - - [28/Feb/2023 10:08:30] \"POST /_dash-update-component HTTP/1.1\" 200 -\n"
     ]
    }
   ],
   "source": [
    "# Creating the app\n",
    "model_app = dash.Dash(external_stylesheets=[dbc.themes.BOOTSTRAP])\n",
    "\n",
    "years = [i for i in range(2005,2031,1)]\n",
    "\n",
    "SIDEBAR_STYLE = {\n",
    "    \"position\": \"fixed\",\n",
    "    \"top\": 0,\n",
    "    \"left\": 0,\n",
    "    \"bottom\": 0,\n",
    "    \"width\": \"32rem\",\n",
    "    \"padding\": \"3rem 1rem\",\n",
    "    \"background-color\": \"#c2c2c2\",\n",
    "}\n",
    "\n",
    "# Content style on the right\n",
    "CONTENT_STYLE = {\n",
    "    \"margin-left\": \"36rem\",\n",
    "    \"margin-right\": \"2rem\",\n",
    "    \"padding\": \"2rem 1rem\",\n",
    "}\n",
    "\n",
    "sidebar = html.Div(\n",
    "    [\n",
    "        html.H2('Model Attributes'),\n",
    "        html.Hr(),\n",
    "        html.P(),\n",
    "        \n",
    "        # Options\n",
    "        html.Div(children=[\n",
    "            html.Div(children=[\n",
    "                html.H4('Choose Country:'),\n",
    "                dcc.Dropdown(id = 'country',\n",
    "                             options=[{'label':'Kenya', 'value':'Kenya'},\n",
    "                                     {'label':'Rwanda', 'value':'Rwanda'},\n",
    "                                     {'label':'Ghana', 'value':'Ghana'}\n",
    "                                     ],\n",
    "                            placeholder='Choose Country')\n",
    "            ]),\n",
    "            \n",
    "            # Choose Region\n",
    "            html.Div(children=[\n",
    "                html.H4('Choose Region:'),\n",
    "                dcc.Dropdown(id='region',\n",
    "                            options=[\n",
    "                                {'label':'National', 'value':'National'},\n",
    "                                {'label':'Urban', 'value':'Urban'},\n",
    "                                {'label':'Rural', 'value':'Rural'}\n",
    "                            ],\n",
    "                            placeholder= 'Choose Region')\n",
    "            \n",
    "            ]),\n",
    "\n",
    "            # Choose Economic Activity\n",
    "            html.Div(children=[\n",
    "                html.H4('Choose Economic Activity:'),\n",
    "                dcc.Dropdown(id='activity',\n",
    "                            options=[\n",
    "                                {'label':'Total', 'value':'Total'},\n",
    "                                {'label':'Agriculture', 'value':'Agriculture'},\n",
    "                                {'label':'Industry', 'value':'Industry'},\n",
    "                                {'label':'Services', 'value':'Services'}\n",
    "                            ],\n",
    "                            placeholder='Choose Economic Activity')\n",
    "            ]),\n",
    "\n",
    "            # Choose Gender\n",
    "            html.Div(children=[\n",
    "                html.H4('Choose Gender:'),\n",
    "                dcc.Dropdown(id='gender',\n",
    "                            options=[\n",
    "                                {'label':'Total', 'value':'T'},\n",
    "                                {'label':'Female', 'value':'F'},\n",
    "                                {'label':'Male', 'value':'M'}\n",
    "                            ],\n",
    "                            placeholder='Choose Gender')\n",
    "            ]),\n",
    "            \n",
    "            # Choose Year\n",
    "            html.Div(children=[\n",
    "                html.H4('Choose Year:'),\n",
    "                dcc.Dropdown(id='year',\n",
    "                            options=[\n",
    "                                {'label': i, 'value': i} for i in years\n",
    "                            ],\n",
    "                            placeholder='Choose Year')\n",
    "            ]),\n",
    "        ]),\n",
    "           \n",
    "    ],\n",
    "    style=SIDEBAR_STYLE,\n",
    ")\n",
    "\n",
    "content = html.Div(children=[\n",
    "    # Dashboard title\n",
    "    html.Div(html.H2('Observed Value Prediction', style={'textAlign':'center'})),\n",
    "    html.Hr(), \n",
    "    # Prediction\n",
    "    html.Div(children=[\n",
    "        html.Div(html.H1(id='prediction', style={'textAlign':'center'}))\n",
    "    ])\n",
    "\n",
    "], style=CONTENT_STYLE)\n",
    "\n",
    "# Creating app Layout\n",
    "model_app.layout = html.Div(children=[sidebar, content])\n",
    "\n",
    "# App Callback\n",
    "@model_app.callback(Output(component_id='prediction', component_property='children'),\n",
    "              \n",
    "                 [Input(component_id='country', component_property='value'),\n",
    "                 Input(component_id='region', component_property='value'),\n",
    "                 Input(component_id='activity', component_property='value'),\n",
    "                 Input(component_id='gender', component_property='value'),\n",
    "                 Input(component_id='year', component_property='value')])\n",
    "\n",
    "def get_prediction(country, region, activity, gender, year):\n",
    "    \n",
    "    if country is None or region is None or activity is None or gender is None or year is None:\n",
    "        \n",
    "        raise PreventUpdate\n",
    "        \n",
    "    else:\n",
    "        values = {'country':country, \n",
    "                  'sex':gender, \n",
    "                  'year':year, \n",
    "                  'region':region, \n",
    "                  'activity':activity}\n",
    "\n",
    "        df_pred = pd.DataFrame(values, index=[0])\n",
    "        prediction = xgb_pipe.predict(df_pred)\n",
    "\n",
    "        return prediction\n",
    "\n",
    "# Running App\n",
    "if __name__ == '__main__':\n",
    "    model_app.run_server()"
   ]
  },
  {
   "cell_type": "code",
   "execution_count": null,
   "id": "30901e46-cdb3-4358-bd07-bb2924f46764",
   "metadata": {
    "tags": []
   },
   "outputs": [],
   "source": []
  },
  {
   "cell_type": "code",
   "execution_count": null,
   "id": "51a46167-8283-4efc-8003-f61af824a4b1",
   "metadata": {},
   "outputs": [],
   "source": []
  },
  {
   "cell_type": "code",
   "execution_count": null,
   "id": "849ba72e-a3a4-4253-a065-4d78a8df5aa5",
   "metadata": {
    "tags": []
   },
   "outputs": [],
   "source": []
  },
  {
   "cell_type": "code",
   "execution_count": null,
   "id": "e42b54e2-a1ac-4a68-94d3-d623770c948f",
   "metadata": {
    "tags": []
   },
   "outputs": [],
   "source": []
  },
  {
   "cell_type": "code",
   "execution_count": null,
   "id": "4230a9c8-0b2f-4025-8ee5-e523828208e1",
   "metadata": {
    "tags": []
   },
   "outputs": [],
   "source": [
    " "
   ]
  },
  {
   "cell_type": "code",
   "execution_count": null,
   "id": "ffbc2064-cb41-4125-ac09-ff207628dd2f",
   "metadata": {
    "tags": []
   },
   "outputs": [],
   "source": []
  },
  {
   "cell_type": "code",
   "execution_count": null,
   "id": "39261616-9d9e-4d81-80d5-acfaa1b7e79c",
   "metadata": {
    "tags": []
   },
   "outputs": [],
   "source": []
  },
  {
   "cell_type": "code",
   "execution_count": null,
   "id": "7198b7ac-c92b-4467-83ca-8a8f2e6440a1",
   "metadata": {
    "tags": []
   },
   "outputs": [],
   "source": []
  },
  {
   "cell_type": "code",
   "execution_count": null,
   "id": "a0ced4fe-e790-43f9-9fcb-83f829caf6a3",
   "metadata": {},
   "outputs": [],
   "source": []
  },
  {
   "cell_type": "code",
   "execution_count": null,
   "id": "9b738d64-5db9-4deb-a951-492fcb1f397b",
   "metadata": {},
   "outputs": [],
   "source": []
  }
 ],
 "metadata": {
  "kernelspec": {
   "display_name": "Python 3 (ipykernel)",
   "language": "python",
   "name": "python3"
  },
  "language_info": {
   "codemirror_mode": {
    "name": "ipython",
    "version": 3
   },
   "file_extension": ".py",
   "mimetype": "text/x-python",
   "name": "python",
   "nbconvert_exporter": "python",
   "pygments_lexer": "ipython3",
   "version": "3.11.0"
  }
 },
 "nbformat": 4,
 "nbformat_minor": 5
}
